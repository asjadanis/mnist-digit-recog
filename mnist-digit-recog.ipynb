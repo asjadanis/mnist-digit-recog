{
 "cells": [
  {
   "cell_type": "code",
   "execution_count": 4,
   "metadata": {},
   "outputs": [],
   "source": [
    "import tensorflow as tf\n",
    "import matplotlib.pyplot as plt"
   ]
  },
  {
   "cell_type": "code",
   "execution_count": 2,
   "metadata": {},
   "outputs": [
    {
     "data": {
      "text/plain": [
       "'2.1.0'"
      ]
     },
     "execution_count": 2,
     "metadata": {},
     "output_type": "execute_result"
    }
   ],
   "source": [
    "tf.__version__"
   ]
  },
  {
   "cell_type": "code",
   "execution_count": 3,
   "metadata": {},
   "outputs": [],
   "source": [
    "%matplotlib inline"
   ]
  },
  {
   "cell_type": "markdown",
   "metadata": {},
   "source": [
    "## Loading data"
   ]
  },
  {
   "cell_type": "code",
   "execution_count": 4,
   "metadata": {},
   "outputs": [],
   "source": [
    "def load_data():\n",
    "    mnist = tf.keras.datasets.mnist\n",
    "    (x_train, y_train), (x_test, y_test) = mnist.load_data()\n",
    "    x_train, x_test = x_train / 255.0, x_test/255.0\n",
    "    \n",
    "    return (x_train, y_train), (x_test, y_test)"
   ]
  },
  {
   "cell_type": "code",
   "execution_count": 5,
   "metadata": {},
   "outputs": [],
   "source": [
    "(x_train, y_train), (x_test, y_test) = load_data()"
   ]
  },
  {
   "cell_type": "code",
   "execution_count": 6,
   "metadata": {},
   "outputs": [
    {
     "data": {
      "text/plain": [
       "((60000, 28, 28), (60000,))"
      ]
     },
     "execution_count": 6,
     "metadata": {},
     "output_type": "execute_result"
    }
   ],
   "source": [
    "x_train.shape, y_train.shape"
   ]
  },
  {
   "cell_type": "markdown",
   "metadata": {},
   "source": [
    "# Plot Data"
   ]
  },
  {
   "cell_type": "code",
   "execution_count": 8,
   "metadata": {},
   "outputs": [],
   "source": [
    "def plot_data(images, rows, columns):\n",
    "    fig=plt.figure(figsize=(6, 6))\n",
    "    for i in range(1, columns * rows + 1):\n",
    "        img = images[i - 1]\n",
    "        fig.add_subplot(rows, columns, i)\n",
    "        plt.imshow(img, cmap=\"gray\")\n",
    "    plt.show()"
   ]
  },
  {
   "cell_type": "code",
   "execution_count": 9,
   "metadata": {},
   "outputs": [
    {
     "data": {
      "image/png": "[encoded data removed]",
      "text/plain": [
       "<Figure size 432x432 with 16 Axes>"
      ]
     },
     "metadata": {
      "needs_background": "light"
     },
     "output_type": "display_data"
    }
   ],
   "source": [
    "plot_data(x_train[0:20], rows = 4, columns = 4) "
   ]
  },
  {
   "cell_type": "markdown",
   "metadata": {},
   "source": [
    "# Reshaping Data"
   ]
  },
  {
   "cell_type": "code",
   "execution_count": 10,
   "metadata": {},
   "outputs": [
    {
     "data": {
      "text/plain": [
       "((60000, 28, 28), (60000,))"
      ]
     },
     "execution_count": 10,
     "metadata": {},
     "output_type": "execute_result"
    }
   ],
   "source": [
    "x_train.shape, y_train.shape"
   ]
  },
  {
   "cell_type": "code",
   "execution_count": 11,
   "metadata": {},
   "outputs": [
    {
     "data": {
      "text/plain": [
       "((60000, 28, 28, 1), (10000, 28, 28, 1))"
      ]
     },
     "execution_count": 11,
     "metadata": {},
     "output_type": "execute_result"
    }
   ],
   "source": [
    "input_shape = (28, 28, 1)\n",
    "\n",
    "x_train =  x_train.reshape(x_train.shape[0], *input_shape)\n",
    "x_test = x_test.reshape(x_test.shape[0], *input_shape)\n",
    "x_train.shape, x_test.shape"
   ]
  },
  {
   "cell_type": "markdown",
   "metadata": {},
   "source": [
    "# Building Conv-Net"
   ]
  },
  {
   "cell_type": "code",
   "execution_count": 12,
   "metadata": {},
   "outputs": [],
   "source": [
    "def define_model():\n",
    "    model = tf.keras.models.Sequential();\n",
    "    model.add(tf.keras.layers.Conv2D(input_shape=(28, 28, 1), filters=6, kernel_size=[5, 5], activation=\"relu\", strides=(1, 1), padding=\"same\"))\n",
    "    model.add(tf.keras.layers.MaxPool2D(pool_size=(2, 2)))\n",
    "    model.add(tf.keras.layers.Conv2D(filters=64, kernel_size=[5, 5], activation=\"relu\", strides=(1, 1), padding=\"same\"))\n",
    "    model.add(tf.keras.layers.MaxPool2D(pool_size=(2, 2)))\n",
    "    model.add(tf.keras.layers.Flatten())\n",
    "    model.add(tf.keras.layers.Dense(128, activation=\"relu\"))\n",
    "    model.add(tf.keras.layers.Dense(10, activation=\"softmax\"))\n",
    "    \n",
    "    model.compile(optimizer=\"sgd\", loss=\"sparse_categorical_crossentropy\", metrics=['accuracy'])\n",
    "    \n",
    "    return model\n",
    "    "
   ]
  },
  {
   "cell_type": "code",
   "execution_count": 13,
   "metadata": {},
   "outputs": [],
   "source": [
    "model = define_model()"
   ]
  },
  {
   "cell_type": "code",
   "execution_count": 14,
   "metadata": {},
   "outputs": [],
   "source": [
    "batched_input_shape = tf.TensorShape((None, *input_shape))"
   ]
  },
  {
   "cell_type": "code",
   "execution_count": 15,
   "metadata": {},
   "outputs": [
    {
     "data": {
      "text/plain": [
       "TensorShape([None, 28, 28, 1])"
      ]
     },
     "execution_count": 15,
     "metadata": {},
     "output_type": "execute_result"
    }
   ],
   "source": [
    "batched_input_shape"
   ]
  },
  {
   "cell_type": "code",
   "execution_count": 16,
   "metadata": {},
   "outputs": [],
   "source": [
    "mode = model.build(input_shape = batched_input_shape)"
   ]
  },
  {
   "cell_type": "code",
   "execution_count": 17,
   "metadata": {},
   "outputs": [
    {
     "name": "stdout",
     "output_type": "stream",
     "text": [
      "Model: \"sequential\"\n",
      "_________________________________________________________________\n",
      "Layer (type)                 Output Shape              Param #   \n",
      "=================================================================\n",
      "conv2d (Conv2D)              (None, 28, 28, 6)         156       \n",
      "_________________________________________________________________\n",
      "max_pooling2d (MaxPooling2D) (None, 14, 14, 6)         0         \n",
      "_________________________________________________________________\n",
      "conv2d_1 (Conv2D)            (None, 14, 14, 64)        9664      \n",
      "_________________________________________________________________\n",
      "max_pooling2d_1 (MaxPooling2 (None, 7, 7, 64)          0         \n",
      "_________________________________________________________________\n",
      "flatten (Flatten)            (None, 3136)              0         \n",
      "_________________________________________________________________\n",
      "dense (Dense)                (None, 128)               401536    \n",
      "_________________________________________________________________\n",
      "dense_1 (Dense)              (None, 10)                1290      \n",
      "=================================================================\n",
      "Total params: 412,646\n",
      "Trainable params: 412,646\n",
      "Non-trainable params: 0\n",
      "_________________________________________________________________\n"
     ]
    }
   ],
   "source": [
    "model.summary()"
   ]
  },
  {
   "cell_type": "code",
   "execution_count": 18,
   "metadata": {},
   "outputs": [],
   "source": [
    "call_backs = [\n",
    "    tf.keras.callbacks.EarlyStopping(patience=5, monitor=\"val_loss\"),\n",
    "    tf.keras.callbacks.TensorBoard(log_dir=\"./logs\", histogram_freq=1, write_graph=True),\n",
    "    tf.keras.callbacks.ModelCheckpoint(filepath=\"./checkpoints/model-{epoch:02d}-{val_loss:0.2f}\", \n",
    "                                       monitor='val_loss', \n",
    "                                       verbose=2, \n",
    "                                       save_best_only=False,\n",
    "                                       save_weights_only=False, \n",
    "                                       mode='auto', \n",
    "                                       save_freq='epoch')\n",
    "]"
   ]
  },
  {
   "cell_type": "code",
   "execution_count": 19,
   "metadata": {},
   "outputs": [],
   "source": [
    "# Split training data to train/validation\n",
    "\n",
    "val_x = x_train[0:5000]\n",
    "val_y = y_train[0:5000]\n",
    "\n",
    "x_train = x_train[5000 : ]\n",
    "y_train = y_train[5000 : ]"
   ]
  },
  {
   "cell_type": "code",
   "execution_count": 20,
   "metadata": {},
   "outputs": [
    {
     "data": {
      "text/plain": [
       "((55000, 28, 28, 1), (55000,))"
      ]
     },
     "execution_count": 20,
     "metadata": {},
     "output_type": "execute_result"
    }
   ],
   "source": [
    "x_train.shape, y_train.shape"
   ]
  },
  {
   "cell_type": "code",
   "execution_count": 21,
   "metadata": {
    "collapsed": true,
    "jupyter": {
     "outputs_hidden": true
    }
   },
   "outputs": [
    {
     "name": "stdout",
     "output_type": "stream",
     "text": [
      "Train on 55000 samples, validate on 5000 samples\n",
      "Epoch 1/30\n",
      "54976/55000 [============================>.] - ETA: 0s - loss: 0.4714 - accuracy: 0.8644\n",
      "Epoch 00001: saving model to ./checkpoints/model-01-0.15\n",
      "WARNING:tensorflow:From /usr/local/lib/python3.7/site-packages/tensorflow_core/python/ops/resource_variable_ops.py:1786: calling BaseResourceVariable.__init__ (from tensorflow.python.ops.resource_variable_ops) with constraint is deprecated and will be removed in a future version.\n",
      "Instructions for updating:\n",
      "If using Keras pass *_constraint arguments to layers.\n",
      "INFO:tensorflow:Assets written to: ./checkpoints/model-01-0.15/assets\n",
      "55000/55000 [==============================] - 34s 610us/sample - loss: 0.4713 - accuracy: 0.8644 - val_loss: 0.1516 - val_accuracy: 0.9560\n",
      "Epoch 2/30\n",
      "54976/55000 [============================>.] - ETA: 0s - loss: 0.1194 - accuracy: 0.9640\n",
      "Epoch 00002: saving model to ./checkpoints/model-02-0.08\n",
      "INFO:tensorflow:Assets written to: ./checkpoints/model-02-0.08/assets\n",
      "55000/55000 [==============================] - 35s 628us/sample - loss: 0.1195 - accuracy: 0.9640 - val_loss: 0.0845 - val_accuracy: 0.9768\n",
      "Epoch 3/30\n",
      "54944/55000 [============================>.] - ETA: 0s - loss: 0.0814 - accuracy: 0.9748\n",
      "Epoch 00003: saving model to ./checkpoints/model-03-0.07\n",
      "INFO:tensorflow:Assets written to: ./checkpoints/model-03-0.07/assets\n",
      "55000/55000 [==============================] - 40s 734us/sample - loss: 0.0814 - accuracy: 0.9748 - val_loss: 0.0672 - val_accuracy: 0.9820\n",
      "Epoch 4/30\n",
      "54944/55000 [============================>.] - ETA: 0s - loss: 0.0633 - accuracy: 0.9806\n",
      "Epoch 00004: saving model to ./checkpoints/model-04-0.06\n",
      "INFO:tensorflow:Assets written to: ./checkpoints/model-04-0.06/assets\n",
      "55000/55000 [==============================] - 33s 605us/sample - loss: 0.0633 - accuracy: 0.9806 - val_loss: 0.0561 - val_accuracy: 0.9836\n",
      "Epoch 5/30\n",
      "54944/55000 [============================>.] - ETA: 0s - loss: 0.0538 - accuracy: 0.9835\n",
      "Epoch 00005: saving model to ./checkpoints/model-05-0.05\n",
      "INFO:tensorflow:Assets written to: ./checkpoints/model-05-0.05/assets\n",
      "55000/55000 [==============================] - 33s 609us/sample - loss: 0.0538 - accuracy: 0.9835 - val_loss: 0.0480 - val_accuracy: 0.9858\n",
      "Epoch 6/30\n",
      "54944/55000 [============================>.] - ETA: 0s - loss: 0.0467 - accuracy: 0.9852\n",
      "Epoch 00006: saving model to ./checkpoints/model-06-0.05\n",
      "INFO:tensorflow:Assets written to: ./checkpoints/model-06-0.05/assets\n",
      "55000/55000 [==============================] - 33s 600us/sample - loss: 0.0467 - accuracy: 0.9852 - val_loss: 0.0460 - val_accuracy: 0.9864\n",
      "Epoch 7/30\n",
      "54976/55000 [============================>.] - ETA: 0s - loss: 0.0415 - accuracy: 0.9871\n",
      "Epoch 00007: saving model to ./checkpoints/model-07-0.05\n",
      "INFO:tensorflow:Assets written to: ./checkpoints/model-07-0.05/assets\n",
      "55000/55000 [==============================] - 33s 598us/sample - loss: 0.0415 - accuracy: 0.9871 - val_loss: 0.0457 - val_accuracy: 0.9858\n",
      "Epoch 8/30\n",
      "54912/55000 [============================>.] - ETA: 0s - loss: 0.0371 - accuracy: 0.9884\n",
      "Epoch 00008: saving model to ./checkpoints/model-08-0.04\n",
      "INFO:tensorflow:Assets written to: ./checkpoints/model-08-0.04/assets\n",
      "55000/55000 [==============================] - 33s 591us/sample - loss: 0.0371 - accuracy: 0.9884 - val_loss: 0.0404 - val_accuracy: 0.9886\n",
      "Epoch 9/30\n",
      "54976/55000 [============================>.] - ETA: 0s - loss: 0.0335 - accuracy: 0.9891\n",
      "Epoch 00009: saving model to ./checkpoints/model-09-0.04\n",
      "INFO:tensorflow:Assets written to: ./checkpoints/model-09-0.04/assets\n",
      "55000/55000 [==============================] - 31s 562us/sample - loss: 0.0335 - accuracy: 0.9891 - val_loss: 0.0399 - val_accuracy: 0.9880\n",
      "Epoch 10/30\n",
      "54944/55000 [============================>.] - ETA: 0s - loss: 0.0311 - accuracy: 0.9899\n",
      "Epoch 00010: saving model to ./checkpoints/model-10-0.05\n",
      "INFO:tensorflow:Assets written to: ./checkpoints/model-10-0.05/assets\n",
      "55000/55000 [==============================] - 31s 570us/sample - loss: 0.0311 - accuracy: 0.9899 - val_loss: 0.0467 - val_accuracy: 0.9864\n",
      "Epoch 11/30\n",
      "54912/55000 [============================>.] - ETA: 0s - loss: 0.0276 - accuracy: 0.9914\n",
      "Epoch 00011: saving model to ./checkpoints/model-11-0.04\n",
      "INFO:tensorflow:Assets written to: ./checkpoints/model-11-0.04/assets\n",
      "55000/55000 [==============================] - 31s 561us/sample - loss: 0.0276 - accuracy: 0.9914 - val_loss: 0.0401 - val_accuracy: 0.9880\n",
      "Epoch 12/30\n",
      "54976/55000 [============================>.] - ETA: 0s - loss: 0.0258 - accuracy: 0.9917\n",
      "Epoch 00012: saving model to ./checkpoints/model-12-0.04\n",
      "INFO:tensorflow:Assets written to: ./checkpoints/model-12-0.04/assets\n",
      "55000/55000 [==============================] - 31s 571us/sample - loss: 0.0258 - accuracy: 0.9917 - val_loss: 0.0399 - val_accuracy: 0.9896\n",
      "Epoch 13/30\n",
      "54976/55000 [============================>.] - ETA: 0s - loss: 0.0237 - accuracy: 0.9929\n",
      "Epoch 00013: saving model to ./checkpoints/model-13-0.03\n",
      "INFO:tensorflow:Assets written to: ./checkpoints/model-13-0.03/assets\n",
      "55000/55000 [==============================] - 31s 563us/sample - loss: 0.0237 - accuracy: 0.9929 - val_loss: 0.0348 - val_accuracy: 0.9904\n",
      "Epoch 14/30\n",
      "54880/55000 [============================>.] - ETA: 0s - loss: 0.0221 - accuracy: 0.9932\n",
      "Epoch 00014: saving model to ./checkpoints/model-14-0.04\n",
      "INFO:tensorflow:Assets written to: ./checkpoints/model-14-0.04/assets\n",
      "55000/55000 [==============================] - 31s 562us/sample - loss: 0.0222 - accuracy: 0.9932 - val_loss: 0.0419 - val_accuracy: 0.9896\n",
      "Epoch 15/30\n",
      "54912/55000 [============================>.] - ETA: 0s - loss: 0.0205 - accuracy: 0.9937\n",
      "Epoch 00015: saving model to ./checkpoints/model-15-0.04\n",
      "INFO:tensorflow:Assets written to: ./checkpoints/model-15-0.04/assets\n",
      "55000/55000 [==============================] - 31s 570us/sample - loss: 0.0205 - accuracy: 0.9937 - val_loss: 0.0371 - val_accuracy: 0.9910\n",
      "Epoch 16/30\n",
      "54976/55000 [============================>.] - ETA: 0s - loss: 0.0184 - accuracy: 0.9942\n",
      "Epoch 00016: saving model to ./checkpoints/model-16-0.04\n",
      "INFO:tensorflow:Assets written to: ./checkpoints/model-16-0.04/assets\n",
      "55000/55000 [==============================] - 42s 760us/sample - loss: 0.0184 - accuracy: 0.9942 - val_loss: 0.0360 - val_accuracy: 0.9908\n",
      "Epoch 17/30\n",
      "54976/55000 [============================>.] - ETA: 0s - loss: 0.0168 - accuracy: 0.9951\n",
      "Epoch 00017: saving model to ./checkpoints/model-17-0.04\n",
      "INFO:tensorflow:Assets written to: ./checkpoints/model-17-0.04/assets\n",
      "55000/55000 [==============================] - 35s 631us/sample - loss: 0.0168 - accuracy: 0.9951 - val_loss: 0.0381 - val_accuracy: 0.9894\n",
      "Epoch 18/30\n",
      "54944/55000 [============================>.] - ETA: 0s - loss: 0.0157 - accuracy: 0.9953\n",
      "Epoch 00018: saving model to ./checkpoints/model-18-0.04\n",
      "INFO:tensorflow:Assets written to: ./checkpoints/model-18-0.04/assets\n",
      "55000/55000 [==============================] - 34s 619us/sample - loss: 0.0157 - accuracy: 0.9953 - val_loss: 0.0388 - val_accuracy: 0.9880\n"
     ]
    }
   ],
   "source": [
    "history = model.fit(x_train, y_train, batch_size=32, verbose=1, epochs=30, validation_data=(val_x, val_y), callbacks=call_backs)"
   ]
  },
  {
   "cell_type": "code",
   "execution_count": 22,
   "metadata": {},
   "outputs": [
    {
     "name": "stdout",
     "output_type": "stream",
     "text": [
      "10000/10000 [==============================] - 2s 182us/sample - loss: 0.0293 - accuracy: 0.9906\n"
     ]
    },
    {
     "data": {
      "text/plain": [
       "[0.02933244510183431, 0.9906]"
      ]
     },
     "execution_count": 22,
     "metadata": {},
     "output_type": "execute_result"
    }
   ],
   "source": [
    "model.evaluate(x_test, y_test)"
   ]
  },
  {
   "cell_type": "code",
   "execution_count": 23,
   "metadata": {},
   "outputs": [
    {
     "name": "stdout",
     "output_type": "stream",
     "text": [
      "INFO:tensorflow:Assets written to: ./mnist-digit-model-v2/assets\n"
     ]
    }
   ],
   "source": [
    "model.save(\"./mnist-digit-model-v2\")"
   ]
  },
  {
   "cell_type": "code",
   "execution_count": 24,
   "metadata": {},
   "outputs": [],
   "source": [
    "def plot_predicted_results(images, rows, columns):\n",
    "    fig=plt.figure(figsize=(8, 8))\n",
    "    for i in range(1, columns * rows + 1):\n",
    "        img = images[i - 1]\n",
    "        prediction = model.predict_classes(tf.expand_dims(img, axis=0))\n",
    "        sub_plot = fig.add_subplot(rows, columns, i)\n",
    "        sub_plot.set_xlabel(prediction[0], fontsize=18)\n",
    "        plt.imshow(tf.squeeze(img), cmap=\"gray\")\n",
    "    plt.show()"
   ]
  },
  {
   "cell_type": "code",
   "execution_count": 25,
   "metadata": {},
   "outputs": [],
   "source": [
    "start_index = 30\n",
    "end_index = 50"
   ]
  },
  {
   "cell_type": "code",
   "execution_count": 26,
   "metadata": {},
   "outputs": [
    {
     "data": {
      "image/png": "[encoded data removed]",
      "text/plain": [
       "<Figure size 576x576 with 20 Axes>"
      ]
     },
     "metadata": {
      "needs_background": "light"
     },
     "output_type": "display_data"
    }
   ],
   "source": [
    "plot_predicted_results(x_train[start_index:end_index], rows=4, columns=5)"
   ]
  },
  {
   "cell_type": "code",
   "execution_count": null,
   "metadata": {},
   "outputs": [],
   "source": []
  }
 ],
 "metadata": {
  "kernelspec": {
   "display_name": "Python 3",
   "language": "python",
   "name": "python3"
  },
  "language_info": {
   "codemirror_mode": {
    "name": "ipython",
    "version": 3
   },
   "file_extension": ".py",
   "mimetype": "text/x-python",
   "name": "python",
   "nbconvert_exporter": "python",
   "pygments_lexer": "ipython3",
   "version": "3.7.4"
  }
 },
 "nbformat": 4,
 "nbformat_minor": 4
}
